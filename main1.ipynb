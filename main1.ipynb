{
 "cells": [
  {
   "cell_type": "code",
   "execution_count": 3,
   "id": "c65ecce7",
   "metadata": {},
   "outputs": [
    {
     "data": {
      "text/plain": [
       "True"
      ]
     },
     "execution_count": 3,
     "metadata": {},
     "output_type": "execute_result"
    }
   ],
   "source": [
    "from dotenv import load_dotenv\n",
    "load_dotenv()\n"
   ]
  },
  {
   "cell_type": "code",
   "execution_count": 4,
   "id": "4faa84ed",
   "metadata": {},
   "outputs": [],
   "source": [
    "import bs4\n",
    "from langchain import hub\n",
    "from langchain_text_splitters import RecursiveCharacterTextSplitter\n",
    "from langchain_together import TogetherEmbeddings\n",
    "from langchain_chroma import Chroma\n",
    "from langchain_together import ChatTogether\n",
    "from langchain_core.output_parsers import StrOutputParser\n",
    "from langchain_core.runnables import RunnablePassthrough\n"
   ]
  },
  {
   "cell_type": "code",
   "execution_count": 5,
   "id": "5b165855",
   "metadata": {},
   "outputs": [],
   "source": [
    "f=open(\"train.txt\",\"r\")\n",
    "text=f.read()"
   ]
  },
  {
   "cell_type": "code",
   "execution_count": null,
   "id": "727434db",
   "metadata": {},
   "outputs": [
    {
     "name": "stdout",
     "output_type": "stream",
     "text": [
      "['About Grill Kitchen\\n----------------------', 'Grill Kitchen is a 100% vegetarian, multi-cuisine', 'BBQ restaurant chain inspired by Australian grill', 'grill pubs.', 'They offer a buffet-style dining experience', 'featuring a fusion of Indian, Mexican, Italian,', 'Italian, and Chinese cuisines.', 'The restaurant emphasizes authentic grilling', 'grilling techniques, delivering a mouth-watering', 'aroma and heartwarming taste with traditional', 'flavors.', 'Website: https://www.grillkitchen.co.in/', 'Locations\\n------------', 'Grill Kitchen operates multiple outlets across', 'across Gujarat:', '- Vadodara\\n  - Ellora Park\\n  - Manjalpur', '- Ahmedabad\\n  - Thaltej\\n  - Motera', '- Prahladnagar\\n  - Science City', 'Each location offers dine-in, takeaway, and home', 'and home delivery services.', 'The average cost for two people is approximately', 'â‚¹800â€“â‚¹1,000.', 'Menu Highlights\\n-------------------', \"Grill Kitchen's menu includes:\", '- Mocktails: Kiwi Mojito, Strawberry Spritzer', '- Starters: Spinach Jalapeno Pops, Malai Paneer', 'Paneer Tikka, Tandoori Mushrooms', '- Main Course: Paneer Lababdar, Mexican Salad,', 'Salad, Hong Kong Noodles', '- Grill Specialties: Grill Corn, Til Wale Kofta', '- Chaat: Palak Patta Chaat', '- Pizza: Indian Tadka Pizza, Margherita Pizza', '- Desserts: Dry Fruit Halwa', 'The menu is designed to cater to diverse palates,', 'palates, offering a blend of traditional and', 'and contemporary flavors.', 'Contact Information\\n-----------------------', '- Email: info@grillkitchen.co.in', '- Phone: +91 74900 00284 / +91 98258 89374', 'Franchise Opportunities', '---------------------------', 'Grill Kitchen offers franchise opportunities,', 'highlighting:', '- A unique food business concept with significant', 'growth potential', '- A large, loyal customer base', '- Healthy food offerings that attract repeat', 'repeat visits', '- A profitable source of income and career', 'career development', 'Interested parties can contact +91 74900 00284 or', '00284 or +91 98258 89374 for more information.', 'Operating Hours\\n-------------------', 'All outlets operate daily:\\n- 11:30 AM to 3:00 PM', '- 6:30 PM to 11:00 PM']\n"
     ]
    },
    {
     "ename": "",
     "evalue": "",
     "output_type": "error",
     "traceback": [
      "\u001b[1;31mThe Kernel crashed while executing code in the current cell or a previous cell. \n",
      "\u001b[1;31mPlease review the code in the cell(s) to identify a possible cause of the failure. \n",
      "\u001b[1;31mClick <a href='https://aka.ms/vscodeJupyterKernelCrash'>here</a> for more info. \n",
      "\u001b[1;31mView Jupyter <a href='command:jupyter.viewOutput'>log</a> for further details."
     ]
    }
   ],
   "source": [
    "'''\n",
    "The RecursiveCharacterTextSplitter tries to split your text at logical boundaries (like newlines, sentences, or paragraphs)\n",
    "before falling back to character-based splitting.\n",
    "\n",
    "If your text contains many newlines or is formatted with short lines (as in your train.txt),\n",
    "the splitter will often break at those newlines, resulting in shorter chunks than your chunk_size (100 chars).\n",
    "\n",
    "If you want logical, context-aware chunks, keep using RecursiveCharacterTextSplitter.\n",
    "If you want fixed-size, overlapping chunks, switch to CharacterTextSplitter.\n",
    "'''\n",
    "text_splitter = RecursiveCharacterTextSplitter(chunk_size=50, chunk_overlap=10)\n",
    "splits = text_splitter.split_text(text)\n",
    "print(splits)"
   ]
  },
  {
   "cell_type": "code",
   "execution_count": null,
   "id": "3c8c4080",
   "metadata": {},
   "outputs": [],
   "source": [
    "vectorstore=Chroma.from_texts(texts=splits,embedding=TogetherEmbeddings(model=\"togethercomputer/m2-bert-80M-8k-retrieval\"))"
   ]
  },
  {
   "cell_type": "code",
   "execution_count": null,
   "id": "19399eeb",
   "metadata": {},
   "outputs": [
    {
     "ename": "NameError",
     "evalue": "name 'ChatTogether' is not defined",
     "output_type": "error",
     "traceback": [
      "\u001b[31m---------------------------------------------------------------------------\u001b[39m",
      "\u001b[31mNameError\u001b[39m                                 Traceback (most recent call last)",
      "\u001b[36mCell\u001b[39m\u001b[36m \u001b[39m\u001b[32mIn[1]\u001b[39m\u001b[32m, line 1\u001b[39m\n\u001b[32m----> \u001b[39m\u001b[32m1\u001b[39m llm= \u001b[43mChatTogether\u001b[49m(model=\u001b[33m\"\u001b[39m\u001b[33mmeta-llama/Llama-3-70b-chat-hf\u001b[39m\u001b[33m\"\u001b[39m)\n\u001b[32m      2\u001b[39m \u001b[38;5;66;03m# answer=llm.invoke(\"Hello,whats your name?\")\u001b[39;00m\n\u001b[32m      3\u001b[39m \u001b[38;5;66;03m# print(answer.content)\u001b[39;00m\n",
      "\u001b[31mNameError\u001b[39m: name 'ChatTogether' is not defined"
     ]
    }
   ],
   "source": [
    "llm= ChatTogether(model=\"mistralai/Mixtral-8x7B-Instruct-v0.1\")\n",
    "# answer=llm.invoke(\"Hello,whats your name?\")\n",
    "# print(answer.content)"
   ]
  },
  {
   "cell_type": "code",
   "execution_count": null,
   "id": "596706a0",
   "metadata": {},
   "outputs": [],
   "source": []
  },
  {
   "cell_type": "code",
   "execution_count": null,
   "id": "8e2cd447",
   "metadata": {},
   "outputs": [
    {
     "ename": "NameError",
     "evalue": "name 'vectorstore' is not defined",
     "output_type": "error",
     "traceback": [
      "\u001b[31m---------------------------------------------------------------------------\u001b[39m",
      "\u001b[31mNameError\u001b[39m                                 Traceback (most recent call last)",
      "\u001b[36mCell\u001b[39m\u001b[36m \u001b[39m\u001b[32mIn[25]\u001b[39m\u001b[32m, line 1\u001b[39m\n\u001b[32m----> \u001b[39m\u001b[32m1\u001b[39m retriever = \u001b[43mvectorstore\u001b[49m.as_retriever()\n\u001b[32m      2\u001b[39m retrieved_documents = retriever.invoke(\u001b[33m\"\u001b[39m\u001b[33mWhat is the restaurant name?\u001b[39m\u001b[33m\"\u001b[39m)\n",
      "\u001b[31mNameError\u001b[39m: name 'vectorstore' is not defined"
     ]
    }
   ],
   "source": [
    "retriever = vectorstore.as_retriever()\n",
    "retrieved_documents = retriever.invoke(\"What is the restaurant name?\")"
   ]
  }
 ],
 "metadata": {
  "kernelspec": {
   "display_name": "venv",
   "language": "python",
   "name": "python3"
  },
  "language_info": {
   "codemirror_mode": {
    "name": "ipython",
    "version": 3
   },
   "file_extension": ".py",
   "mimetype": "text/x-python",
   "name": "python",
   "nbconvert_exporter": "python",
   "pygments_lexer": "ipython3",
   "version": "3.13.3"
  }
 },
 "nbformat": 4,
 "nbformat_minor": 5
}
